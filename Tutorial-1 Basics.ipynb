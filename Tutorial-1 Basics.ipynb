{
 "cells": [
  {
   "cell_type": "markdown",
   "id": "d418cbd1-bd60-4e53-b165-7f789f79dc6d",
   "metadata": {},
   "source": [
    "### Mostly used Jupyter shortcuts"
   ]
  },
  {
   "cell_type": "code",
   "execution_count": 1,
   "id": "03fd7c00-1307-4d11-9f54-136dcc2e4598",
   "metadata": {},
   "outputs": [],
   "source": [
    "# to execute a cell -> Shift + Enter\n",
    "# new cell above current cell -> Esc -> A\n",
    "# new cell below current cell -> Esc -> B\n",
    "# to delete a cell -> Esc -> D -> D"
   ]
  },
  {
   "cell_type": "markdown",
   "id": "58493be0-67fb-4421-9e34-de4885529f61",
   "metadata": {},
   "source": [
    "### Topics to be covered in Tutorial-1:\n",
    "1. Variables\n",
    "2. Data types\n",
    "3. Arithmetics operators\n",
    "4. Relational operators\n",
    "5. Logical Operators\n",
    "6. If condition"
   ]
  },
  {
   "cell_type": "code",
   "execution_count": null,
   "id": "772c573d-d954-4184-bbd1-df8726821ca3",
   "metadata": {},
   "outputs": [],
   "source": []
  },
  {
   "cell_type": "code",
   "execution_count": 2,
   "id": "92967c0f-9f7b-404b-a60b-975922f3abb3",
   "metadata": {},
   "outputs": [
    {
     "name": "stdout",
     "output_type": "stream",
     "text": [
      "Nivetha\n"
     ]
    }
   ],
   "source": [
    "# To print the line\n",
    "print(\"Nivetha\")"
   ]
  },
  {
   "cell_type": "markdown",
   "id": "3ca6e25f-af4a-45ee-ab49-df7c69c56238",
   "metadata": {},
   "source": [
    "## 1. Variables"
   ]
  },
  {
   "cell_type": "code",
   "execution_count": 22,
   "id": "dd53f6b3-a3a9-4039-bc4f-642320115d31",
   "metadata": {},
   "outputs": [
    {
     "name": "stdout",
     "output_type": "stream",
     "text": [
      "11\n"
     ]
    }
   ],
   "source": [
    "a = 5\n",
    "b = 6\n",
    "print(a+b)"
   ]
  },
  {
   "cell_type": "code",
   "execution_count": 23,
   "id": "68d0cc8b-b5fd-4fc2-96a2-b9abfb4a6d96",
   "metadata": {},
   "outputs": [
    {
     "data": {
      "text/plain": [
       "'\\na & b - are variables\\n\\nVariable - used to store value/data \\nLHS - variable\\nRHS - value / data\\n'"
      ]
     },
     "execution_count": 23,
     "metadata": {},
     "output_type": "execute_result"
    }
   ],
   "source": [
    "\"\"\"\n",
    "a & b - are variables\n",
    "\n",
    "Variable - used to store value/data \n",
    "LHS - variable\n",
    "RHS - value / data\n",
    "\"\"\""
   ]
  },
  {
   "cell_type": "code",
   "execution_count": 24,
   "id": "980daecc-921a-4677-9c70-74a50d96a33a",
   "metadata": {},
   "outputs": [
    {
     "data": {
      "text/plain": [
       "\"\\nBasic Data type in python:\\n1. Integer - decimal value -> 10, 20 1, 100\\n2. Float - 1.2, 5.6\\n3. Boolean - True or False\\n4. String - sequence of character -> 'a', 'b'\\n\""
      ]
     },
     "execution_count": 24,
     "metadata": {},
     "output_type": "execute_result"
    }
   ],
   "source": [
    "\"\"\"\n",
    "Basic Data type in python:\n",
    "1. Integer - decimal value -> 10, 20 1, 100\n",
    "2. Float - 1.2, 5.6\n",
    "3. Boolean - True or False\n",
    "4. String - sequence of character -> 'a', 'b'\n",
    "\"\"\""
   ]
  },
  {
   "cell_type": "markdown",
   "id": "9c307b42-cf79-4cfd-aa44-a3aa54dd6c2b",
   "metadata": {},
   "source": [
    "## 2. Data types"
   ]
  },
  {
   "cell_type": "markdown",
   "id": "77b40932-7b93-45e7-a33c-98c46fc88956",
   "metadata": {},
   "source": [
    "### Integer"
   ]
  },
  {
   "cell_type": "code",
   "execution_count": 9,
   "id": "7d783ed7-1a35-4326-8ecb-d9392a232794",
   "metadata": {},
   "outputs": [],
   "source": [
    "a = 5"
   ]
  },
  {
   "cell_type": "code",
   "execution_count": 10,
   "id": "2cb8d0c3-629d-43e7-9bfa-5ce6f332e629",
   "metadata": {},
   "outputs": [],
   "source": [
    "b = 100"
   ]
  },
  {
   "cell_type": "code",
   "execution_count": 11,
   "id": "737ec1ee-a2af-46f1-a422-742a405ba945",
   "metadata": {},
   "outputs": [
    {
     "data": {
      "text/plain": [
       "int"
      ]
     },
     "execution_count": 11,
     "metadata": {},
     "output_type": "execute_result"
    }
   ],
   "source": [
    "type(b)"
   ]
  },
  {
   "cell_type": "code",
   "execution_count": 12,
   "id": "3f35855e-03d4-45ce-bba7-099603abcd03",
   "metadata": {},
   "outputs": [
    {
     "name": "stdout",
     "output_type": "stream",
     "text": [
      "8\n"
     ]
    }
   ],
   "source": [
    "print(8)"
   ]
  },
  {
   "cell_type": "markdown",
   "id": "cb7f56c1-d4ec-4ead-b0a5-67fc400a0cb1",
   "metadata": {},
   "source": [
    "### Float"
   ]
  },
  {
   "cell_type": "code",
   "execution_count": 13,
   "id": "99e921b4-4729-40d0-9f4a-7d4a31c22e6b",
   "metadata": {},
   "outputs": [],
   "source": [
    "m = 4.5"
   ]
  },
  {
   "cell_type": "code",
   "execution_count": 14,
   "id": "9eae9fae-dceb-45d2-b01e-92efae15f828",
   "metadata": {},
   "outputs": [
    {
     "data": {
      "text/plain": [
       "float"
      ]
     },
     "execution_count": 14,
     "metadata": {},
     "output_type": "execute_result"
    }
   ],
   "source": [
    "type(m)"
   ]
  },
  {
   "cell_type": "markdown",
   "id": "5d581916-0c5b-46fc-8b68-9328f5116b14",
   "metadata": {},
   "source": [
    "### Boolean"
   ]
  },
  {
   "cell_type": "code",
   "execution_count": 15,
   "id": "b601371a-83dc-4274-821e-3461863a17cb",
   "metadata": {},
   "outputs": [
    {
     "name": "stdout",
     "output_type": "stream",
     "text": [
      "True\n"
     ]
    }
   ],
   "source": [
    "flag = True\n",
    "print(flag)"
   ]
  },
  {
   "cell_type": "code",
   "execution_count": 16,
   "id": "7ef004ff-33ec-4064-8a67-134f7e5249e0",
   "metadata": {},
   "outputs": [
    {
     "name": "stdout",
     "output_type": "stream",
     "text": [
      "False\n"
     ]
    }
   ],
   "source": [
    "n = False\n",
    "print(n)"
   ]
  },
  {
   "cell_type": "code",
   "execution_count": 17,
   "id": "5ea2af7a-4045-401b-9eb4-7f9a2900387f",
   "metadata": {},
   "outputs": [
    {
     "data": {
      "text/plain": [
       "bool"
      ]
     },
     "execution_count": 17,
     "metadata": {},
     "output_type": "execute_result"
    }
   ],
   "source": [
    "type(n)"
   ]
  },
  {
   "cell_type": "markdown",
   "id": "ca8d08cf-45e5-4c94-bfec-6c26730fc5b5",
   "metadata": {},
   "source": [
    "### String"
   ]
  },
  {
   "cell_type": "code",
   "execution_count": 18,
   "id": "c56e072e-5fa8-4691-be2e-26f4347e9ff5",
   "metadata": {},
   "outputs": [],
   "source": [
    "c = \"a\""
   ]
  },
  {
   "cell_type": "code",
   "execution_count": 19,
   "id": "32ac4bd2-beb5-4d06-b9b5-605bfb57968b",
   "metadata": {},
   "outputs": [
    {
     "data": {
      "text/plain": [
       "str"
      ]
     },
     "execution_count": 19,
     "metadata": {},
     "output_type": "execute_result"
    }
   ],
   "source": [
    "type(c)"
   ]
  },
  {
   "cell_type": "code",
   "execution_count": 20,
   "id": "1c2ab7ba-b64d-4f56-b0fd-9f0e0b01f435",
   "metadata": {},
   "outputs": [
    {
     "data": {
      "text/plain": [
       "str"
      ]
     },
     "execution_count": 20,
     "metadata": {},
     "output_type": "execute_result"
    }
   ],
   "source": [
    "name = 'n'\n",
    "type(name)"
   ]
  },
  {
   "cell_type": "code",
   "execution_count": 22,
   "id": "0675bb96-c407-4636-9470-7dda8012b4f4",
   "metadata": {},
   "outputs": [
    {
     "name": "stdout",
     "output_type": "stream",
     "text": [
      "n\n"
     ]
    }
   ],
   "source": [
    "print(name)"
   ]
  },
  {
   "cell_type": "code",
   "execution_count": 23,
   "id": "ad9fec96-d84c-42a5-a86f-6f36a4359873",
   "metadata": {},
   "outputs": [],
   "source": [
    "name = \"Nivetha Aruchamy\""
   ]
  },
  {
   "cell_type": "code",
   "execution_count": 24,
   "id": "a7501f82-60d9-4f86-8b7b-55378d14fa16",
   "metadata": {},
   "outputs": [
    {
     "name": "stdout",
     "output_type": "stream",
     "text": [
      "Nivetha Aruchamy\n"
     ]
    }
   ],
   "source": [
    "print(name)"
   ]
  },
  {
   "cell_type": "code",
   "execution_count": 25,
   "id": "59bce41d-0cc7-417c-b1ed-dbc8a26339b1",
   "metadata": {},
   "outputs": [
    {
     "name": "stdout",
     "output_type": "stream",
     "text": [
      "Nivetha Sriram\n"
     ]
    }
   ],
   "source": [
    "print(\"Nivetha Sriram\")"
   ]
  },
  {
   "cell_type": "markdown",
   "id": "61a8fbb5-e184-4c49-b238-3c347f451c2a",
   "metadata": {},
   "source": [
    "### String operations"
   ]
  },
  {
   "cell_type": "code",
   "execution_count": 32,
   "id": "fbfbf3b3-97a9-41f1-a2d7-01b5050bdbf5",
   "metadata": {},
   "outputs": [],
   "source": [
    "name = \"Nivetha\""
   ]
  },
  {
   "cell_type": "code",
   "execution_count": 28,
   "id": "06c43b7a-4e17-48ea-acda-c24994364db3",
   "metadata": {},
   "outputs": [
    {
     "data": {
      "text/plain": [
       "7"
      ]
     },
     "execution_count": 28,
     "metadata": {},
     "output_type": "execute_result"
    }
   ],
   "source": [
    "# len -> to get length of the string\n",
    "# len(string)\n",
    "len(name)"
   ]
  },
  {
   "cell_type": "code",
   "execution_count": 33,
   "id": "8ce5406b-2b77-458a-95b4-7f2496dec3c4",
   "metadata": {},
   "outputs": [],
   "source": [
    "name = \"Sriram\""
   ]
  },
  {
   "cell_type": "code",
   "execution_count": 30,
   "id": "c6f1549a-aacf-4ebf-af4b-e4d73320057a",
   "metadata": {},
   "outputs": [
    {
     "name": "stdout",
     "output_type": "stream",
     "text": [
      "Sriram\n"
     ]
    }
   ],
   "source": [
    "print(name)"
   ]
  },
  {
   "cell_type": "code",
   "execution_count": 39,
   "id": "2c2bbeea-a00d-4918-b8de-a6b440ba6894",
   "metadata": {},
   "outputs": [
    {
     "name": "stdout",
     "output_type": "stream",
     "text": [
      "First country = India\n",
      "First country = India\n",
      "Second country -  US\n"
     ]
    }
   ],
   "source": [
    "country = \"India\"\n",
    "print(\"First country =\",country)\n",
    "print(\"First country =\",country)\n",
    "country = \"US\"\n",
    "print(\"Second country - \",country)"
   ]
  },
  {
   "cell_type": "code",
   "execution_count": 40,
   "id": "ba1a76fe-47d5-496c-a0ab-54beb5820496",
   "metadata": {},
   "outputs": [
    {
     "name": "stdout",
     "output_type": "stream",
     "text": [
      "First country = India\n",
      "First country = India\n",
      "Second country -  UK\n"
     ]
    }
   ],
   "source": [
    "country = \"India\"\n",
    "print(\"First country =\",country)\n",
    "print(\"First country =\",country)\n",
    "country = \"US\"\n",
    "country = \"UK\"\n",
    "print(\"Second country - \",country)"
   ]
  },
  {
   "cell_type": "code",
   "execution_count": 41,
   "id": "865da37e-f4d1-4a3e-8670-ba8d5016f4b0",
   "metadata": {},
   "outputs": [
    {
     "name": "stdout",
     "output_type": "stream",
     "text": [
      "First country = India\n",
      "First country = India\n",
      "Second country -  US\n",
      "Second country -  UK\n"
     ]
    }
   ],
   "source": [
    "country = \"India\"\n",
    "print(\"First country =\",country)\n",
    "print(\"First country =\",country)\n",
    "country = \"US\"\n",
    "print(\"Second country - \",country)\n",
    "country = \"UK\"\n",
    "print(\"Second country - \",country)"
   ]
  },
  {
   "cell_type": "code",
   "execution_count": 42,
   "id": "3e0dcd60-ec55-4dbe-a499-848cf9972763",
   "metadata": {},
   "outputs": [],
   "source": [
    "# concatenation -> joining 2 string \n",
    "# symbol -> +"
   ]
  },
  {
   "cell_type": "code",
   "execution_count": 43,
   "id": "26127205-442c-4db5-9fa8-37d9ded0196f",
   "metadata": {},
   "outputs": [
    {
     "name": "stdout",
     "output_type": "stream",
     "text": [
      "Sriram Appusamy\n"
     ]
    }
   ],
   "source": [
    "print(\"Sriram\" + \" \" + \"Appusamy\")"
   ]
  },
  {
   "cell_type": "code",
   "execution_count": 47,
   "id": "510531f4-5731-40dc-9191-b1844d4fd577",
   "metadata": {},
   "outputs": [
    {
     "name": "stdout",
     "output_type": "stream",
     "text": [
      "Nivetha 7\n",
      "Nivetha  8\n",
      "Nivetha Aruchamy 16\n"
     ]
    }
   ],
   "source": [
    "name = \"Nivetha\"\n",
    "print(name, len(name))\n",
    "name = name + \" \"\n",
    "print(name, len(name))\n",
    "name = name + \"Aruchamy\"\n",
    "print(name, len(name))"
   ]
  },
  {
   "cell_type": "code",
   "execution_count": null,
   "id": "a191cfe3-d14f-45b7-b674-555134973bb6",
   "metadata": {},
   "outputs": [],
   "source": []
  },
  {
   "cell_type": "code",
   "execution_count": 3,
   "id": "7a0b4fa7-82d3-4947-9394-dc906fb44706",
   "metadata": {},
   "outputs": [
    {
     "name": "stdout",
     "output_type": "stream",
     "text": [
      "300\n"
     ]
    }
   ],
   "source": [
    "a = 100\n",
    "b = 200\n",
    "print (a+b)"
   ]
  },
  {
   "cell_type": "code",
   "execution_count": 4,
   "id": "8465b388-9808-4058-9ead-782931cf2c99",
   "metadata": {},
   "outputs": [
    {
     "name": "stdout",
     "output_type": "stream",
     "text": [
      "9.0\n"
     ]
    }
   ],
   "source": [
    "a=1.5\n",
    "b=7.5\n",
    "print (a+b)"
   ]
  },
  {
   "cell_type": "code",
   "execution_count": 5,
   "id": "5d6166c3-937d-484f-a1dc-bba5aaa17880",
   "metadata": {},
   "outputs": [
    {
     "data": {
      "text/plain": [
       "float"
      ]
     },
     "execution_count": 5,
     "metadata": {},
     "output_type": "execute_result"
    }
   ],
   "source": [
    "a=3.5\n",
    "type(a)"
   ]
  },
  {
   "cell_type": "code",
   "execution_count": 48,
   "id": "341fd4cf-165f-4cd5-9cba-aa4c19e5d7ec",
   "metadata": {},
   "outputs": [],
   "source": [
    "name= \"nivetha\"\n",
    "name= 5"
   ]
  },
  {
   "cell_type": "code",
   "execution_count": 49,
   "id": "2e07b616-bd41-4c60-8c4d-63642c6554d7",
   "metadata": {},
   "outputs": [
    {
     "name": "stdout",
     "output_type": "stream",
     "text": [
      "<class 'int'>\n"
     ]
    }
   ],
   "source": [
    "print(type(name))"
   ]
  },
  {
   "cell_type": "code",
   "execution_count": 50,
   "id": "67539b9c-668e-4d65-a07e-63df6551359d",
   "metadata": {},
   "outputs": [],
   "source": [
    "first_name=\"Nivetha\"\n",
    "last_name=\"Aruchamy\"\n",
    "middle_name=\"Baby\"\n",
    "#Nivetha BabyAruchamy"
   ]
  },
  {
   "cell_type": "code",
   "execution_count": 55,
   "id": "3c5cb2a7-e7d4-4a99-882f-18b812d27ae0",
   "metadata": {},
   "outputs": [],
   "source": [
    "name = first_name + \" \" + middle_name + last_name"
   ]
  },
  {
   "cell_type": "code",
   "execution_count": 56,
   "id": "9dc0bc59-51b7-4500-9a53-b98f58cb88be",
   "metadata": {},
   "outputs": [
    {
     "name": "stdout",
     "output_type": "stream",
     "text": [
      "Nivetha BabyAruchamy\n"
     ]
    }
   ],
   "source": [
    "print(name)  "
   ]
  },
  {
   "cell_type": "markdown",
   "id": "4e885069-4dbc-47fa-b2f0-d2cb87185bd6",
   "metadata": {},
   "source": [
    "## 3. Arthimatic Operators"
   ]
  },
  {
   "cell_type": "markdown",
   "id": "23973e31-7193-47a4-a454-4c79d10e611c",
   "metadata": {},
   "source": [
    "1. Addition - +\n",
    "2. Subtract - -\n",
    "3. Multiply - *\n",
    "4. Division - /\n",
    "5. Integer Division - //\n",
    "6. Modulo - to get remainder of the division - %"
   ]
  },
  {
   "cell_type": "code",
   "execution_count": 57,
   "id": "18eb0401-bfc6-4ba5-a03d-9cb4140403f7",
   "metadata": {},
   "outputs": [
    {
     "name": "stdout",
     "output_type": "stream",
     "text": [
      "30\n"
     ]
    }
   ],
   "source": [
    "a = 10\n",
    "b = 20\n",
    "c = a+b\n",
    "print(c)"
   ]
  },
  {
   "cell_type": "code",
   "execution_count": 58,
   "id": "028d47e7-e197-4ac2-80a8-44394e0b11fe",
   "metadata": {},
   "outputs": [
    {
     "name": "stdout",
     "output_type": "stream",
     "text": [
      "10\n",
      "-10\n"
     ]
    }
   ],
   "source": [
    "n1 = 20\n",
    "n2 = 10\n",
    "print(n1-n2)\n",
    "print(n2-n1)"
   ]
  },
  {
   "cell_type": "code",
   "execution_count": 63,
   "id": "6b14ff89-f032-4e10-b02b-0fcf9d34bd64",
   "metadata": {},
   "outputs": [
    {
     "name": "stdout",
     "output_type": "stream",
     "text": [
      "-20\n"
     ]
    }
   ],
   "source": [
    "#Subtraction\n",
    "a = 10\n",
    "b = 30\n",
    "c = (a-b)\n",
    "print (c)"
   ]
  },
  {
   "cell_type": "code",
   "execution_count": 65,
   "id": "71aa6ad2-ebc3-4a34-80a2-cd18aa6d0d36",
   "metadata": {},
   "outputs": [
    {
     "name": "stdout",
     "output_type": "stream",
     "text": [
      "300\n"
     ]
    }
   ],
   "source": [
    "#Multiplication\n",
    "a = 10\n",
    "b = 30\n",
    "c = (a*b)\n",
    "print(c)"
   ]
  },
  {
   "cell_type": "code",
   "execution_count": 70,
   "id": "0763df59-917d-4e00-970c-bdd54908b331",
   "metadata": {},
   "outputs": [
    {
     "name": "stdout",
     "output_type": "stream",
     "text": [
      "2.3333333333333335\n"
     ]
    }
   ],
   "source": [
    "#Division\n",
    "a = 7\n",
    "b = 3\n",
    "c = (a/b)\n",
    "print(c)"
   ]
  },
  {
   "cell_type": "code",
   "execution_count": 69,
   "id": "7001df2b-38f0-426c-b1ff-1d0016ae7a8f",
   "metadata": {},
   "outputs": [
    {
     "name": "stdout",
     "output_type": "stream",
     "text": [
      "2\n"
     ]
    }
   ],
   "source": [
    "#Interger Division\n",
    "a = 7\n",
    "b = 3\n",
    "c = (a//b)\n",
    "print(c)"
   ]
  },
  {
   "cell_type": "code",
   "execution_count": 71,
   "id": "b4469540-1602-4ca0-a201-caf1cf072271",
   "metadata": {},
   "outputs": [
    {
     "name": "stdout",
     "output_type": "stream",
     "text": [
      "1\n"
     ]
    }
   ],
   "source": [
    "#Modulo\n",
    "a = 7\n",
    "b = 3\n",
    "c = (a%b)\n",
    "print(c)"
   ]
  },
  {
   "cell_type": "markdown",
   "id": "3e0c5482-888d-4bd7-afba-85e746300ebb",
   "metadata": {},
   "source": [
    "## 4. Relational Operators"
   ]
  },
  {
   "cell_type": "markdown",
   "id": "cadf98af-4885-4f97-ac81-e4ab710d4dee",
   "metadata": {},
   "source": [
    "1. Equal to - ==\n",
    "2. Greater than - >\n",
    "3. Greater than equal to - >=\n",
    "4. Less than - <\n",
    "5. Less than equal to - <=\n",
    "6. Not equal to - !=\n",
    "\n",
    "Return result as Boolean value. If condition is correct - True, other wise False"
   ]
  },
  {
   "cell_type": "code",
   "execution_count": 78,
   "id": "e5a610bf-3061-4916-9ded-401d4a16ca5a",
   "metadata": {},
   "outputs": [
    {
     "data": {
      "text/plain": [
       "True"
      ]
     },
     "execution_count": 78,
     "metadata": {},
     "output_type": "execute_result"
    }
   ],
   "source": [
    "2==2"
   ]
  },
  {
   "cell_type": "code",
   "execution_count": 79,
   "id": "59c374d9-8201-4977-9969-ce2b8ff2df8b",
   "metadata": {},
   "outputs": [
    {
     "data": {
      "text/plain": [
       "False"
      ]
     },
     "execution_count": 79,
     "metadata": {},
     "output_type": "execute_result"
    }
   ],
   "source": [
    "2==3"
   ]
  },
  {
   "cell_type": "code",
   "execution_count": 80,
   "id": "c869e855-fda1-4fd0-af3d-59bbf279b82d",
   "metadata": {},
   "outputs": [
    {
     "data": {
      "text/plain": [
       "True"
      ]
     },
     "execution_count": 80,
     "metadata": {},
     "output_type": "execute_result"
    }
   ],
   "source": [
    "\"sriram\" == \"sriram\""
   ]
  },
  {
   "cell_type": "code",
   "execution_count": 81,
   "id": "6542788e-5214-415b-8c86-1cdbb50503be",
   "metadata": {},
   "outputs": [
    {
     "data": {
      "text/plain": [
       "False"
      ]
     },
     "execution_count": 81,
     "metadata": {},
     "output_type": "execute_result"
    }
   ],
   "source": [
    "\"Sri\" == \"sri\""
   ]
  },
  {
   "cell_type": "code",
   "execution_count": 82,
   "id": "f7a36deb-d99e-4418-9002-6544e084b6a8",
   "metadata": {},
   "outputs": [
    {
     "data": {
      "text/plain": [
       "False"
      ]
     },
     "execution_count": 82,
     "metadata": {},
     "output_type": "execute_result"
    }
   ],
   "source": [
    "3>4"
   ]
  },
  {
   "cell_type": "code",
   "execution_count": 83,
   "id": "65ad9052-4979-4627-88b3-732bfdeaa143",
   "metadata": {},
   "outputs": [
    {
     "data": {
      "text/plain": [
       "False"
      ]
     },
     "execution_count": 83,
     "metadata": {},
     "output_type": "execute_result"
    }
   ],
   "source": [
    "5<1"
   ]
  },
  {
   "cell_type": "code",
   "execution_count": 84,
   "id": "1deb1002-b219-40a2-8536-965d4cfcdbcb",
   "metadata": {},
   "outputs": [
    {
     "data": {
      "text/plain": [
       "True"
      ]
     },
     "execution_count": 84,
     "metadata": {},
     "output_type": "execute_result"
    }
   ],
   "source": [
    "1>=1"
   ]
  },
  {
   "cell_type": "code",
   "execution_count": 85,
   "id": "16691b3c-c3dc-4406-b505-54d86427d19b",
   "metadata": {},
   "outputs": [
    {
     "data": {
      "text/plain": [
       "True"
      ]
     },
     "execution_count": 85,
     "metadata": {},
     "output_type": "execute_result"
    }
   ],
   "source": [
    "\"Sri\"!=\"sri\""
   ]
  },
  {
   "cell_type": "markdown",
   "id": "363907bc-5041-4337-a639-96ec3e78e8eb",
   "metadata": {},
   "source": [
    "## 5. Logical Operations"
   ]
  },
  {
   "cell_type": "code",
   "execution_count": 75,
   "id": "c6240c21-3d92-421f-96c5-a590f9ff9b78",
   "metadata": {},
   "outputs": [],
   "source": [
    "# AND -> all should be True to return as True\n",
    "# OR -> atleast one of the expression should be True to return as True"
   ]
  },
  {
   "cell_type": "code",
   "execution_count": 73,
   "id": "41f0f96d-65eb-4aad-992c-5518f37f7ad9",
   "metadata": {},
   "outputs": [
    {
     "data": {
      "text/plain": [
       "True"
      ]
     },
     "execution_count": 73,
     "metadata": {},
     "output_type": "execute_result"
    }
   ],
   "source": [
    "a=True\n",
    "b=True\n",
    "a and b"
   ]
  },
  {
   "cell_type": "code",
   "execution_count": 74,
   "id": "c007c711-fe47-4b97-b653-b11b71425bff",
   "metadata": {},
   "outputs": [
    {
     "name": "stdout",
     "output_type": "stream",
     "text": [
      "False\n",
      "True\n"
     ]
    }
   ],
   "source": [
    "a=True\n",
    "b=False\n",
    "print(a and b)\n",
    "print(a or b)"
   ]
  },
  {
   "cell_type": "markdown",
   "id": "40d40212-9bd1-43d5-b649-60ff7803e34b",
   "metadata": {},
   "source": [
    "## 6. If condition"
   ]
  },
  {
   "cell_type": "code",
   "execution_count": null,
   "id": "c5362e7b-a441-4f5a-94ac-3fe0679891c5",
   "metadata": {},
   "outputs": [],
   "source": [
    "# Block of code"
   ]
  },
  {
   "cell_type": "code",
   "execution_count": null,
   "id": "f60bb29c-1cd0-48e5-af0d-c5b353bf4479",
   "metadata": {},
   "outputs": [],
   "source": [
    "# Syntax:\n",
    "# if (condition):\n",
    "#     True block\n",
    "# else:\n",
    "#     Else block"
   ]
  },
  {
   "cell_type": "code",
   "execution_count": 86,
   "id": "f36abe42-ae00-4774-b1c5-30c4edd035df",
   "metadata": {},
   "outputs": [
    {
     "name": "stdout",
     "output_type": "stream",
     "text": [
      "a is greater than b\n"
     ]
    }
   ],
   "source": [
    "a = 2\n",
    "b = 1\n",
    "if (a > b):\n",
    "    print(\"a is greater than b\")"
   ]
  },
  {
   "cell_type": "code",
   "execution_count": 87,
   "id": "12325ffe-5f6d-490c-9d20-0306a2da89db",
   "metadata": {},
   "outputs": [],
   "source": [
    "a = 1\n",
    "b = 2\n",
    "if (a > b):\n",
    "    print(\"a is greater than b\")"
   ]
  },
  {
   "cell_type": "code",
   "execution_count": 88,
   "id": "a26453f1-1e50-4905-9bfb-c73f5c768814",
   "metadata": {},
   "outputs": [
    {
     "name": "stdout",
     "output_type": "stream",
     "text": [
      "b is greater than a\n"
     ]
    }
   ],
   "source": [
    "a = 1\n",
    "b = 2\n",
    "if (a > b):\n",
    "    print(\"a is greater than b\")\n",
    "else:\n",
    "    print(\"b is greater than a\")"
   ]
  },
  {
   "cell_type": "code",
   "execution_count": 89,
   "id": "cf576810-588f-4dda-8080-d73339ccf086",
   "metadata": {},
   "outputs": [
    {
     "name": "stdout",
     "output_type": "stream",
     "text": [
      "a and b are 0\n"
     ]
    }
   ],
   "source": [
    "a = 0\n",
    "b = 0\n",
    "if a!=0:\n",
    "    print(\"a is not 0\")\n",
    "elif b!=0:\n",
    "    print(\"b is not 0\")\n",
    "else:\n",
    "    print(\"a and b are 0\")"
   ]
  },
  {
   "cell_type": "code",
   "execution_count": 90,
   "id": "39193714-3dc1-4e9e-937b-ad4645d1d0e6",
   "metadata": {},
   "outputs": [
    {
     "name": "stdout",
     "output_type": "stream",
     "text": [
      "a is not 0\n"
     ]
    }
   ],
   "source": [
    "a = 2\n",
    "b = 0\n",
    "if a!=0:\n",
    "    print(\"a is not 0\")\n",
    "elif b!=0:\n",
    "    print(\"b is not 0\")\n",
    "else:\n",
    "    print(\"a and b are 0\")"
   ]
  },
  {
   "cell_type": "markdown",
   "id": "7ba2fed6-6b31-4de0-9080-c5936a6cd048",
   "metadata": {},
   "source": [
    "If a given number is divisible by 3 or not.\n",
    "\n",
    "Example: 3,27, 9, 81 -> divisible by 3\n",
    "2, 8,17 -> Not divisible by 3\n",
    "\n",
    "Hints: Use one of the arithmetic operator with relational , if - else condition"
   ]
  },
  {
   "cell_type": "code",
   "execution_count": 96,
   "id": "cf528ba8-b4b3-4089-91c6-7ea513a876ee",
   "metadata": {},
   "outputs": [
    {
     "name": "stdout",
     "output_type": "stream",
     "text": [
      "It gives the remainder\n"
     ]
    }
   ],
   "source": [
    "num = 14\n",
    "div = 3\n",
    "\n",
    "a=14\n",
    "b=3\n",
    "\n",
    "if a%b:\n",
    "    print(\"It gives the remainder\")\n",
    "elif a//b:\n",
    "    print(\"Its not divisible by 3\")"
   ]
  },
  {
   "cell_type": "code",
   "execution_count": 109,
   "id": "75e27c32-c5fe-440b-8d0e-dedc96357296",
   "metadata": {},
   "outputs": [
    {
     "name": "stdout",
     "output_type": "stream",
     "text": [
      "It is not divisible by 3\n"
     ]
    }
   ],
   "source": [
    "a=82\n",
    "b=3\n",
    "\n",
    "if a%b:\n",
    "    print(\"It is not divisible by 3\")\n",
    "else:\n",
    "    print(\"Its divisible by 3\")"
   ]
  },
  {
   "cell_type": "code",
   "execution_count": 111,
   "id": "793b06fe-2cca-4ee6-95c6-09efe1c13118",
   "metadata": {},
   "outputs": [
    {
     "name": "stdout",
     "output_type": "stream",
     "text": [
      "It is divisible by 3\n"
     ]
    }
   ],
   "source": [
    "a=81\n",
    "b=3\n",
    "\n",
    "if (a%b == 0):\n",
    "    print(\"It is divisible by 3\")\n",
    "else:\n",
    "    print(\"It is not divisible by 3\")"
   ]
  },
  {
   "cell_type": "code",
   "execution_count": null,
   "id": "e4581382-688d-496e-a52e-a0e2a3dc5774",
   "metadata": {},
   "outputs": [],
   "source": []
  },
  {
   "cell_type": "code",
   "execution_count": null,
   "id": "50907b87-da19-49d9-abb6-c27673cedcae",
   "metadata": {},
   "outputs": [],
   "source": []
  }
 ],
 "metadata": {
  "kernelspec": {
   "display_name": "Python 3 (ipykernel)",
   "language": "python",
   "name": "python3"
  },
  "language_info": {
   "codemirror_mode": {
    "name": "ipython",
    "version": 3
   },
   "file_extension": ".py",
   "mimetype": "text/x-python",
   "name": "python",
   "nbconvert_exporter": "python",
   "pygments_lexer": "ipython3",
   "version": "3.9.13"
  }
 },
 "nbformat": 4,
 "nbformat_minor": 5
}
